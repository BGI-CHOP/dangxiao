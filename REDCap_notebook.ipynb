{
 "cells": [
  {
   "cell_type": "code",
   "execution_count": 1,
   "metadata": {},
   "outputs": [],
   "source": [
    "#!/usr/bin/env python2\n",
    "#config\n",
    "config = dict(\n",
    "    api_token       = 'XXXX',        #for project name: \n",
    "    api_url         = 'https://redcap.chop.edu/api/'\n",
    ")"
   ]
  },
  {
   "cell_type": "code",
   "execution_count": 3,
   "metadata": {},
   "outputs": [
    {
     "name": "stdout",
     "output_type": "stream",
     "text": [
      "[{\"arm_num\":1,\"name\":\"Drug A\"},{\"arm_num\":2,\"name\":\"Drug B\"}]\n"
     ]
    }
   ],
   "source": [
    "#export arms\n",
    "import pycurl, cStringIO\n",
    "\n",
    "buf = cStringIO.StringIO()\n",
    "\n",
    "fields = {\n",
    "    'token': config['api_token'],\n",
    "    'content': 'arm',\n",
    "    'format': 'json'\n",
    "}\n",
    "\n",
    "ch = pycurl.Curl()\n",
    "ch.setopt(ch.URL, config['api_url'])\n",
    "ch.setopt(ch.HTTPPOST, fields.items())\n",
    "ch.setopt(ch.WRITEFUNCTION, buf.write)\n",
    "ch.perform()\n",
    "ch.close()\n",
    "\n",
    "print buf.getvalue()\n",
    "buf.close()"
   ]
  },
  {
   "cell_type": "code",
   "execution_count": 14,
   "metadata": {},
   "outputs": [
    {
     "name": "stdout",
     "output_type": "stream",
     "text": [
      "1\n"
     ]
    }
   ],
   "source": [
    "#import arms\n",
    "import pycurl, cStringIO, json\n",
    "\n",
    "buf = cStringIO.StringIO()\n",
    "\n",
    "record = {\n",
    "    'arm_num': 3,            #add new Arms or rename existing ones.(add new arms???)\n",
    "    'name': 'Drug C'\n",
    "}\n",
    "\n",
    "data = json.dumps([record])\n",
    "\n",
    "fields = {\n",
    "    'token': config['api_token'],\n",
    "    'content': 'arm',\n",
    "    'action': 'import',\n",
    "    'format': 'json',\n",
    "    'override': '0',\n",
    "    'data': data,\n",
    "}\n",
    "\n",
    "ch = pycurl.Curl()\n",
    "ch.setopt(ch.URL, config['api_url'])\n",
    "ch.setopt(ch.HTTPPOST, fields.items())\n",
    "ch.setopt(ch.WRITEFUNCTION, buf.write)\n",
    "ch.perform()\n",
    "ch.close()\n",
    "\n",
    "print buf.getvalue()\n",
    "buf.close()"
   ]
  },
  {
   "cell_type": "code",
   "execution_count": 15,
   "metadata": {},
   "outputs": [
    {
     "name": "stdout",
     "output_type": "stream",
     "text": [
      "{\"error\":\"You do not have Delete Record privileges\"}\n"
     ]
    }
   ],
   "source": [
    "#delete arms\n",
    "import pycurl, cStringIO, json\n",
    "\n",
    "buf = cStringIO.StringIO()\n",
    "\n",
    "fields = {\n",
    "    'token': config['api_token'],\n",
    "    'content': 'arm',\n",
    "    'action': 'delete',\n",
    "    'format': 'json',\n",
    "    'arms[2]': '3'\n",
    "}\n",
    "\n",
    "ch = pycurl.Curl()\n",
    "ch.setopt(ch.URL, config['api_url'])\n",
    "ch.setopt(ch.HTTPPOST, fields.items())\n",
    "ch.setopt(ch.WRITEFUNCTION, buf.write)\n",
    "ch.perform()\n",
    "ch.close()\n",
    "\n",
    "print buf.getvalue()\n",
    "buf.close()"
   ]
  },
  {
   "cell_type": "code",
   "execution_count": 16,
   "metadata": {},
   "outputs": [
    {
     "name": "stdout",
     "output_type": "stream",
     "text": [
      "[{\"event_name\":\"Enrollment\",\"arm_num\":\"1\",\"day_offset\":\"0\",\"offset_min\":\"0\",\"offset_max\":\"0\",\"unique_event_name\":\"enrollment_arm_1\",\"custom_event_label\":null},{\"event_name\":\"Dose 1\",\"arm_num\":\"1\",\"day_offset\":\"1\",\"offset_min\":\"0\",\"offset_max\":\"0\",\"unique_event_name\":\"dose_1_arm_1\",\"custom_event_label\":null},{\"event_name\":\"Visit 1\",\"arm_num\":\"1\",\"day_offset\":\"3\",\"offset_min\":\"0\",\"offset_max\":\"0\",\"unique_event_name\":\"visit_1_arm_1\",\"custom_event_label\":null},{\"event_name\":\"Dose 2\",\"arm_num\":\"1\",\"day_offset\":\"8\",\"offset_min\":\"0\",\"offset_max\":\"0\",\"unique_event_name\":\"dose_2_arm_1\",\"custom_event_label\":null},{\"event_name\":\"Visit 2\",\"arm_num\":\"1\",\"day_offset\":\"10\",\"offset_min\":\"0\",\"offset_max\":\"0\",\"unique_event_name\":\"visit_2_arm_1\",\"custom_event_label\":null},{\"event_name\":\"Dose 3\",\"arm_num\":\"1\",\"day_offset\":\"15\",\"offset_min\":\"0\",\"offset_max\":\"0\",\"unique_event_name\":\"dose_3_arm_1\",\"custom_event_label\":null},{\"event_name\":\"Visit 3\",\"arm_num\":\"1\",\"day_offset\":\"17\",\"offset_min\":\"0\",\"offset_max\":\"0\",\"unique_event_name\":\"visit_3_arm_1\",\"custom_event_label\":null},{\"event_name\":\"Final visit\",\"arm_num\":\"1\",\"day_offset\":\"30\",\"offset_min\":\"0\",\"offset_max\":\"0\",\"unique_event_name\":\"final_visit_arm_1\",\"custom_event_label\":null},{\"event_name\":\"Enrollment\",\"arm_num\":\"2\",\"day_offset\":\"0\",\"offset_min\":\"0\",\"offset_max\":\"0\",\"unique_event_name\":\"enrollment_arm_2\",\"custom_event_label\":null},{\"event_name\":\"Deadline to opt out of study\",\"arm_num\":\"2\",\"day_offset\":\"5\",\"offset_min\":\"0\",\"offset_max\":\"0\",\"unique_event_name\":\"deadline_to_opt_ou_arm_2\",\"custom_event_label\":null},{\"event_name\":\"First dose\",\"arm_num\":\"2\",\"day_offset\":\"7\",\"offset_min\":\"0\",\"offset_max\":\"0\",\"unique_event_name\":\"first_dose_arm_2\",\"custom_event_label\":null},{\"event_name\":\"First visit\",\"arm_num\":\"2\",\"day_offset\":\"10\",\"offset_min\":\"2\",\"offset_max\":\"2\",\"unique_event_name\":\"first_visit_arm_2\",\"custom_event_label\":null},{\"event_name\":\"Second dose\",\"arm_num\":\"2\",\"day_offset\":\"13\",\"offset_min\":\"0\",\"offset_max\":\"0\",\"unique_event_name\":\"second_dose_arm_2\",\"custom_event_label\":null},{\"event_name\":\"Second visit\",\"arm_num\":\"2\",\"day_offset\":\"15\",\"offset_min\":\"2\",\"offset_max\":\"2\",\"unique_event_name\":\"second_visit_arm_2\",\"custom_event_label\":null},{\"event_name\":\"Final visit\",\"arm_num\":\"2\",\"day_offset\":\"20\",\"offset_min\":\"2\",\"offset_max\":\"2\",\"unique_event_name\":\"final_visit_arm_2\",\"custom_event_label\":null},{\"event_name\":\"Deadline to return feedback\",\"arm_num\":\"2\",\"day_offset\":\"30\",\"offset_min\":\"0\",\"offset_max\":\"0\",\"unique_event_name\":\"deadline_to_return_arm_2\",\"custom_event_label\":null}]\n"
     ]
    }
   ],
   "source": [
    "#export events\n",
    "import pycurl, cStringIO\n",
    "\n",
    "buf = cStringIO.StringIO()\n",
    "\n",
    "fields = {\n",
    "    'token': config['api_token'],\n",
    "    'content': 'event',\n",
    "    'format': 'json',\n",
    "    'arms': ''\n",
    "}\n",
    "\n",
    "ch = pycurl.Curl()\n",
    "ch.setopt(ch.URL, config['api_url'])\n",
    "ch.setopt(ch.HTTPPOST, fields.items())\n",
    "ch.setopt(ch.WRITEFUNCTION, buf.write)\n",
    "ch.perform()\n",
    "ch.close()\n",
    "\n",
    "print buf.getvalue()\n",
    "buf.close()"
   ]
  },
  {
   "cell_type": "code",
   "execution_count": 18,
   "metadata": {},
   "outputs": [],
   "source": [
    "#export_instruments_pdf\n",
    "import pycurl, cStringIO\n",
    "\n",
    "buf = cStringIO.StringIO()\n",
    "\n",
    "fields = {\n",
    "    'token': config['api_token'],\n",
    "    'content': 'pdf',\n",
    "    'format': 'json'\n",
    "}\n",
    "\n",
    "ch = pycurl.Curl()\n",
    "ch.setopt(ch.URL, config['api_url'])\n",
    "ch.setopt(ch.HTTPPOST, fields.items())\n",
    "ch.setopt(ch.WRITEFUNCTION, buf.write)\n",
    "ch.perform()\n",
    "ch.close()\n",
    "\n",
    "f = open('/Users/dangx/Desktop/export.pdf', 'wb')\n",
    "f.write(buf.getvalue())\n",
    "f.close()\n",
    "\n",
    "buf.close()"
   ]
  },
  {
   "cell_type": "code",
   "execution_count": 19,
   "metadata": {},
   "outputs": [
    {
     "name": "stdout",
     "output_type": "stream",
     "text": [
      "[]\n"
     ]
    }
   ],
   "source": [
    "#export records\n",
    "import pycurl, cStringIO\n",
    "\n",
    "buf = cStringIO.StringIO()\n",
    "\n",
    "fields = {\n",
    "    'token': config['api_token'],\n",
    "    'content': 'record',\n",
    "    'format': 'json',\n",
    "    'type': 'flat'\n",
    "}\n",
    "\n",
    "ch = pycurl.Curl()\n",
    "ch.setopt(ch.URL, config['api_url'])\n",
    "ch.setopt(ch.HTTPPOST, fields.items())\n",
    "ch.setopt(ch.WRITEFUNCTION, buf.write)\n",
    "ch.perform()\n",
    "ch.close()\n",
    "\n",
    "print buf.getvalue()\n",
    "buf.close()"
   ]
  },
  {
   "cell_type": "code",
   "execution_count": 24,
   "metadata": {},
   "outputs": [],
   "source": [
    "#export_field_names\n",
    "import pycurl, cStringIO\n",
    "\n",
    "buf = cStringIO.StringIO()\n",
    "\n",
    "fields = {\n",
    "    'token': config['api_token'],\n",
    "    'content': 'exportFieldNames',\n",
    "    'format': 'json',\n",
    "}\n",
    "\n",
    "ch = pycurl.Curl()\n",
    "ch.setopt(ch.URL, config['api_url'])\n",
    "ch.setopt(ch.HTTPPOST, fields.items())\n",
    "ch.setopt(ch.WRITEFUNCTION, buf.write)\n",
    "ch.perform()\n",
    "ch.close()\n",
    "\n",
    "#print buf.getvalue()\n",
    "buf.close()"
   ]
  },
  {
   "cell_type": "code",
   "execution_count": 23,
   "metadata": {},
   "outputs": [],
   "source": [
    "#export metadata\n",
    "import pycurl, cStringIO\n",
    "\n",
    "buf = cStringIO.StringIO()\n",
    "\n",
    "fields = {\n",
    "    'token': config['api_token'],\n",
    "    'content': 'metadata',\n",
    "    'format': 'json'\n",
    "}\n",
    "\n",
    "ch = pycurl.Curl()\n",
    "ch.setopt(ch.URL, config['api_url'])\n",
    "ch.setopt(ch.HTTPPOST, fields.items())\n",
    "ch.setopt(ch.WRITEFUNCTION, buf.write)\n",
    "ch.perform()\n",
    "ch.close()\n",
    "\n",
    "#print buf.getvalue()\n",
    "buf.close()"
   ]
  }
 ],
 "metadata": {
  "kernelspec": {
   "display_name": "Python 2",
   "language": "python",
   "name": "python2"
  },
  "language_info": {
   "codemirror_mode": {
    "name": "ipython",
    "version": 2
   },
   "file_extension": ".py",
   "mimetype": "text/x-python",
   "name": "python",
   "nbconvert_exporter": "python",
   "pygments_lexer": "ipython2",
   "version": "2.7.14"
  }
 },
 "nbformat": 4,
 "nbformat_minor": 2
}
